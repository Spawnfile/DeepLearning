{
 "metadata": {
  "language_info": {
   "codemirror_mode": {
    "name": "ipython",
    "version": 3
   },
   "file_extension": ".py",
   "mimetype": "text/x-python",
   "name": "python",
   "nbconvert_exporter": "python",
   "pygments_lexer": "ipython3",
   "version": "3.6.9-final"
  },
  "orig_nbformat": 2,
  "kernelspec": {
   "name": "python3",
   "display_name": "Python 3"
  }
 },
 "nbformat": 4,
 "nbformat_minor": 2,
 "cells": [
  {
   "cell_type": "code",
   "execution_count": 42,
   "metadata": {},
   "outputs": [],
   "source": [
    "import torch\n",
    "import torch.nn as nn"
   ]
  },
  {
   "cell_type": "code",
   "execution_count": 81,
   "metadata": {},
   "outputs": [
    {
     "output_type": "stream",
     "name": "stdout",
     "text": [
      "torch.Size([1, 64, 388, 388])\n"
     ]
    }
   ],
   "source": [
    "def double_conv(input_channel, output_channel):\n",
    "    conv = nn.Sequential(\n",
    "           nn.Conv2d(input_channel, output_channel, kernel_size=3), \n",
    "           nn.ReLU(inplace=True),\n",
    "           nn.Conv2d(output_channel, output_channel, kernel_size=3), \n",
    "           nn.ReLU(inplace=True),\n",
    "           )              \n",
    "    return conv                 \n",
    "                         \n",
    "def crop_image(tensor, target_tensor):\n",
    "    target_size = target_tensor.size()[2]\n",
    "    input_tensor = tensor.size()[2]                        \n",
    "    delta = input_tensor - target_size\n",
    "    delta = delta // 2\n",
    "    return tensor[:,:,delta:input_tensor-delta, delta:input_tensor-delta]\n",
    "\n",
    "\n",
    "\n",
    "class UNet(nn.Module):\n",
    "    def __init__(self):\n",
    "        super(UNet, self).__init__()\n",
    "        \n",
    "        self.max_pool_3x3 = nn.MaxPool2d(kernel_size=2, stride=2)\n",
    "        \n",
    "        self.down_conv_1 = double_conv(1, 64)\n",
    "        self.down_conv_2 = double_conv(64, 128)\n",
    "        self.down_conv_3 = double_conv(128, 256)\n",
    "        self.down_conv_4 = double_conv(256, 512)\n",
    "        self.down_conv_5 = double_conv(512, 1024) \n",
    "\n",
    "        self.up_trans_1 = nn.ConvTranspose2d(in_channels=1024, out_channels=512, kernel_size=2, stride=2)\n",
    "        self.up_trans_2 = nn.ConvTranspose2d(in_channels=512, out_channels=256, kernel_size=2, stride=2)\n",
    "        self.up_trans_3 = nn.ConvTranspose2d(in_channels=256, out_channels=128, kernel_size=2, stride=2)\n",
    "        self.up_trans_4 = nn.ConvTranspose2d(in_channels=128, out_channels=64, kernel_size=2, stride=2)\n",
    "\n",
    "        self.up_conv_1 = double_conv(1024, 512)\n",
    "        self.up_conv_2 = double_conv(512, 256)\n",
    "        self.up_conv_3 = double_conv(256, 128)\n",
    "        self.up_conv_4 = double_conv(128, 64)\n",
    "\n",
    "        self.out_conv = nn.Conv2d(in_channels=64, out_channels=2, kernel_size=1)\n",
    "\n",
    "    def forward(self, image):\n",
    "        # batch_size, channel, height, width\n",
    "        # encoder part\n",
    "        x1 = self.down_conv_1(image) #\n",
    "        x2 = self.max_pool_3x3(x1)\n",
    "        \n",
    "        x3 = self.down_conv_2(x2) #\n",
    "        x4 = self.max_pool_3x3(x3)\n",
    "\n",
    "        x5 = self.down_conv_3(x4) #\n",
    "        x6 = self.max_pool_3x3(x5)\n",
    "\n",
    "        x7 = self.down_conv_4(x6) #\n",
    "        x8 = self.max_pool_3x3(x7)\n",
    "\n",
    "        x9 = self.down_conv_5(x8)\n",
    "\n",
    "        # decoder part\n",
    "        x = self.up_trans_1(x9)\n",
    "        y = crop_image(x7, x)\n",
    "        x = self.up_conv_1(torch.cat([x,y], 1)) # x and y will be concatenated on dimension 1 that represanted to Y axis.\n",
    "        x = self.up_trans_2(x)\n",
    "        y = crop_image(x5, x)\n",
    "        x = self.up_conv_2(torch.cat([x,y], 1))\n",
    "\n",
    "        x = self.up_trans_3(x)\n",
    "        y = crop_image(x3, x)\n",
    "        x = self.up_conv_3(torch.cat([x,y], 1))\n",
    "\n",
    "        x = self.up_trans_4(x)\n",
    "        y = crop_image(x1, x)\n",
    "        x = self.up_conv_4(torch.cat([x,y], 1))\n",
    "\n",
    "        print(x.size())\n",
    "        out =  self.out_conv(x)\n",
    "\n",
    "        return out \n",
    "\n",
    "if __name__ == \"__main__\":\n",
    "    # test = torch.rand((1,2,572,572)) # 1 tensor var, içinde iki tane channel var bu channellar 572x572 lik iki adet resim gibi düşünülebilir.\n",
    "    image = torch.rand((1,1,572,572))\n",
    "    model = UNet()\n",
    "    output = model(image)"
   ]
  },
  {
   "cell_type": "code",
   "execution_count": null,
   "metadata": {},
   "outputs": [],
   "source": []
  },
  {
   "cell_type": "code",
   "execution_count": null,
   "metadata": {},
   "outputs": [],
   "source": []
  }
 ]
}